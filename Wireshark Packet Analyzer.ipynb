{
    "nbformat_minor": 1, 
    "cells": [
        {
            "source": "# Packet Analysis Using Data Science\n\n***", 
            "cell_type": "markdown", 
            "metadata": {
                "collapsed": true
            }
        }, 
        {
            "source": "## Getting Started\n\n***\n\nThe first thing we are going to do in order to make all this possible, is downloading and importing a few libraries. These include:\n+ [**Scapy**](https://scapy.net)- For packet manupilation.\n+ [**Pandas**](https://pandas.pydata.org/) - To help us create and manupilate dataframes.\n+ [**Numpy**](http://www.numpy.org/) - To help us perform complex mathematical functions.\n+ [**Binascii**](https://docs.python.org/2/library/binascii.html) - To help us convert from Binary to Ascii.\n+ [**Seaborn**](https://seaborn.pydata.org/) - For some awesome visualization. \n\nWe are also going to add the Matplotlib inline (`%matplotlib inline`) function, to allow any visualization to appear within the notebook itself. \n\nSo let's start by installing scapy into the notebook. ", 
            "cell_type": "markdown", 
            "metadata": {}
        }, 
        {
            "execution_count": 123, 
            "cell_type": "code", 
            "metadata": {}, 
            "outputs": [
                {
                    "output_type": "stream", 
                    "name": "stdout", 
                    "text": "Requirement not upgraded as not directly required: scapy in /opt/conda/envs/DSX-Python35/lib/python3.5/site-packages\r\n"
                }
            ], 
            "source": "!pip install scapy"
        }, 
        {
            "execution_count": 124, 
            "cell_type": "code", 
            "metadata": {}, 
            "outputs": [], 
            "source": "%matplotlib inline\n\nfrom scapy.all import *\nimport pandas as pd\nimport numpy as np\nimport binascii\nimport seaborn as sns\n\nsns.set(color_codes=True)"
        }, 
        {
            "source": "## Sniffing packets in Scapy\n\n***\n\nScapy is a tool that provides powerfull and interactive packet manupilation. it allows you to forge or decode packets of a wide number of protocols, send them on wire, capture them, match requests and replies, etc. Packet capture and analysis can primarily be accomplished using Wireshark, however, it is hard to keep track of multiple suspicious indicators while also keeping track of multiple connections in Wireshark. Manupliating packets in Scapy can get a little rigid, so we transform our packet capture into a Panda DataFrame. \n\n", 
            "cell_type": "markdown", 
            "metadata": {}
        }, 
        {
            "execution_count": 125, 
            "cell_type": "code", 
            "metadata": {}, 
            "outputs": [], 
            "source": "# num_of_packets_to_sniff = 100\n# pcap = sniff(count=num_of_packets_to_sniff)\n\n# print(type(pcap))\n# print(len(pcap))\n# print(pcap)\n# pcap[0]"
        }, 
        {
            "source": "## Read the packet information from a pcap file\n\n***\n\n> Note: The following steps are for readers using Watson Studio only! \n\nFor this notebook we will be reading the contents of a packet I obtained from a [CTF platform](https://cybertalents.com/challenges/forensics/cypher-anxiety). We can add the data object directly to the code by openning the `Find and add data` panel. Select the pcap file we will be using, and select `Insert to Code`. ", 
            "cell_type": "markdown", 
            "metadata": {}
        }, 
        {
            "execution_count": 126, 
            "cell_type": "code", 
            "metadata": {}, 
            "outputs": [], 
            "source": "# Insert your data object here. "
        }, 
        {
            "execution_count": 127, 
            "cell_type": "code", 
            "metadata": {}, 
            "outputs": [], 
            "source": "# The code was removed by Watson Studio for sharing."
        }, 
        {
            "execution_count": 128, 
            "cell_type": "code", 
            "metadata": {}, 
            "outputs": [], 
            "source": "# The code was removed by Watson Studio for sharing."
        }, 
        {
            "execution_count": 129, 
            "cell_type": "code", 
            "metadata": {}, 
            "outputs": [], 
            "source": "# The code was removed by Watson Studio for sharing."
        }, 
        {
            "source": "## Into the Packet Layers\n\n***\n\nLet's take a look at the different layers that are present in the network packet. A packet consists of several encapsulated layers. Where the payload of one layer contains it's own headers and the payloads of the following layers. In order to get a better understanding of what is going on, we will break it down into the different layers. ", 
            "cell_type": "markdown", 
            "metadata": {}
        }, 
        {
            "execution_count": 130, 
            "cell_type": "code", 
            "metadata": {}, 
            "outputs": [
                {
                    "output_type": "stream", 
                    "name": "stdout", 
                    "text": "###[ Ethernet ]### \n  dst       = 64:66:b3:6f:e3:45\n  src       = 60:36:dd:1e:9a:10\n  type      = 0x800\n###[ IP ]### \n     version   = 4\n     ihl       = 5\n     tos       = 0x0\n     len       = 52\n     id        = 18353\n     flags     = DF\n     frag      = 0\n     ttl       = 128\n     proto     = tcp\n     chksum    = 0x2f58\n     src       = 192.168.1.6\n     dst       = 192.168.1.100\n     \\options   \\\n###[ TCP ]### \n        sport     = 65198\n        dport     = mmcc\n        seq       = 1290154816\n        ack       = 0\n        dataofs   = 8\n        reserved  = 0\n        flags     = S\n        window    = 8192\n        chksum    = 0x38c6\n        urgptr    = 0\n        options   = [('MSS', 1460), ('NOP', None), ('WScale', 8), ('NOP', None), ('NOP', None), ('SAckOK', b'')]\n\nethernet_frame :  None \n\n\n###[ IP ]### \n  version   = 4\n  ihl       = 5\n  tos       = 0x0\n  len       = 52\n  id        = 18353\n  flags     = DF\n  frag      = 0\n  ttl       = 128\n  proto     = tcp\n  chksum    = 0x2f58\n  src       = 192.168.1.6\n  dst       = 192.168.1.100\n  \\options   \\\n###[ TCP ]### \n     sport     = 65198\n     dport     = mmcc\n     seq       = 1290154816\n     ack       = 0\n     dataofs   = 8\n     reserved  = 0\n     flags     = S\n     window    = 8192\n     chksum    = 0x38c6\n     urgptr    = 0\n     options   = [('MSS', 1460), ('NOP', None), ('WScale', 8), ('NOP', None), ('NOP', None), ('SAckOK', b'')]\n\nip_packet :  None \n\n\n###[ TCP ]### \n  sport     = 65198\n  dport     = mmcc\n  seq       = 1290154816\n  ack       = 0\n  dataofs   = 8\n  reserved  = 0\n  flags     = S\n  window    = 8192\n  chksum    = 0x38c6\n  urgptr    = 0\n  options   = [('MSS', 1460), ('NOP', None), ('WScale', 8), ('NOP', None), ('NOP', None), ('SAckOK', b'')]\n\nsegment :  None \n\n\ndata :  None \n\n\n"
                }
            ], 
            "source": "# Retrieving a single item from the packet list\n\nethernet_frame = pcap[0]\nip_packet = ethernet_frame.payload\nsegment = ip_packet.payload\ndata = segment.payload\n\nprint(\"ethernet_frame : \", ethernet_frame.show(), \"\\n\\n\")\nprint(\"ip_packet : \", ip_packet.show(), \"\\n\\n\")\nprint(\"segment : \", segment.show() ,\"\\n\\n\")\nprint(\"data : \", data.show() ,\"\\n\\n\") # If blank, empty object"
        }, 
        {
            "source": "## Converting the PCAP frames to DataFrames\n\n***\n\nNext, we will try converting the PCAP frames to a Panda Dataframe. This will allow us to manupilate the data obtained from the packets with greater ease and efficiency. In order to do this, we will first obtain all the headers from the different layers of the packet frame (IP, TCP, UDP). Once we have the headers we create an empty panda data frame with those headers, and then populate it row by row, by inserting the frame array for each row. ", 
            "cell_type": "markdown", 
            "metadata": {}
        }, 
        {
            "execution_count": null, 
            "cell_type": "code", 
            "metadata": {}, 
            "outputs": [], 
            "source": "#Collect the field names from IP/TCP/UDP (These will be the columns in the DataFrame)\n\nip_fields =[field.name for field in IP().fields_desc]\ntcp_fields = [field.name for field in TCP().fields_desc]\nudp_fields = [field.name for field in UDP().fields_desc]\n\n# print(\"ip_fields : \", ip_fields)\n# print(\"tcp_fields : \", tcp_fields)\n# print(\"udp_fields : \", udp_fields)\n\ndataframe_fields = ip_fields + ['time'] + tcp_fields + ['payload', 'payload_raw', 'payload_hex']\n\n# print(\"Dataframe_fields : \", dataframe_fields)\n\n# Create a blank DataFrame.\ndf = pd.DataFrame(columns = dataframe_fields)\n\nfor packet in pcap[IP]:\n    #Field array for each row of DataFrame\n    field_values = []\n    # Add all field values\n    for field in ip_fields:\n        if field == 'options':\n            # Retrieving the number of options defined in IP headers\n            field_values.append(len(packet[IP].fields[field]))\n        else:\n            field_values.append(packet[IP].fields[field])\n#             print(packet[IP].fields[field]) \n            \n    field_values.append(packet.time)\n#     print(\"Packet Time : \", packet.time) \n    \n    layer_type = type(packet[IP].payload)\n#     print(\"Layer Type : \", layer_type)   \n    \n    \n    for field in tcp_fields:\n        try:\n            if field == 'options':\n                field_values.append(len(packet[layer_type].fields[field]))\n            else:\n                field_values.append(packet[layer_type].fields[field])\n        except:\n            field_values.append(None)\n            \n    # Append payload\n    field_values.append(len(packet[layer_type].payload))\n    \n    field_values.append(packet[layer_type].payload.original)\n#     print(\"packet[layer_type].payload.original : \",  packet[layer_type].payload.original)\n    \n    field_values.append(binascii.hexlify(packet[layer_type].payload.original))\n#     print(\"binascii.hexlify(packet[layer_type].payload.original) : \", binascii.hexlify(packet[layer_type].payload.original))\n    \n    # Add row to DF\n    df_append = pd.DataFrame([field_values], columns=dataframe_fields)\n    df = pd.concat([df, df_append], axis=0)\n\n# Reset Index\ndf = df.reset_index()\n# Drop old index column\ndf = df.drop(columns=\"index\")\n        \n        "
        }, 
        {
            "execution_count": null, 
            "cell_type": "code", 
            "metadata": {}, 
            "outputs": [], 
            "source": "# The code was removed by Watson Studio for sharing."
        }, 
        {
            "source": "## DataFrame Basics \n\n***", 
            "cell_type": "markdown", 
            "metadata": {}
        }, 
        {
            "execution_count": null, 
            "cell_type": "code", 
            "metadata": {}, 
            "outputs": [], 
            "source": "# Retrieve first row from DataFrame\nprint(df.iloc[0])"
        }, 
        {
            "execution_count": null, 
            "cell_type": "code", 
            "metadata": {}, 
            "outputs": [], 
            "source": "# Shape of the dataframe\nprint(\"The shape of the dataframe is : \", df.shape)"
        }, 
        {
            "execution_count": null, 
            "cell_type": "code", 
            "metadata": {}, 
            "outputs": [], 
            "source": "# Return first 5 rows\ndf.head()"
        }, 
        {
            "execution_count": null, 
            "cell_type": "code", 
            "metadata": {}, 
            "outputs": [], 
            "source": "# Return last 5 rows\ndf.tail()"
        }, 
        {
            "execution_count": null, 
            "cell_type": "code", 
            "metadata": {}, 
            "outputs": [], 
            "source": "df.to_csv(\"packet.csv\")"
        }, 
        {
            "source": "## PCAP Statistics\n\n***\n\nOne of the advantages of converting our PCAP packet frames to a Pandas DataFrame is that, now we can perform statistics on it. One of the most cumbersome aspects of Wireshark is that there is tons and tons of data, which makes it very hard to make any real insights from it, efficiently. With the help of Pandas we can perform some simple statistics, like seeing the most frequently used source address, or the most frequent destination address or port.\n\n", 
            "cell_type": "markdown", 
            "metadata": {}
        }, 
        {
            "execution_count": null, 
            "cell_type": "code", 
            "metadata": {}, 
            "outputs": [], 
            "source": "# Top Source Adddress\nprint(\"[*] Top Source Address: \\n\", df['src'].describe(), \"\\n\\n\")\n\n# Top Destination Address\nprint(\"[*] Top Destination Address: \\n \", df['dst'].describe(), \"\\n\\n\")\n\nfrequent_address = df['src'].describe()['top']\nprint(\"Frequent Address : \", frequent_address, \"\\n\\n\")\n\n# Who is the top address speaking to\nprint(\"[*] Who is Top Address Speaking to?: \\n \", df[df['src'] == frequent_address]['dst'].unique(), \"\\n\\n\")\n\n# Who is the top address speaking to (dst ports)\nprint(\"[*] Who is the top address speaking to (Destination Ports): \\n \", df[df['src'] == frequent_address]['dport'].unique(), \"\\n\\n\")"
        }, 
        {
            "source": "## Visualizations\n\n***\n\nNow that we have the statistics, the next step is to visualize the data. Visualization helps you identify most frequent addresses and ports much quicker and efficiently, and also identify anomolous activity in a glance. \n", 
            "cell_type": "markdown", 
            "metadata": {}
        }, 
        {
            "execution_count": null, 
            "cell_type": "code", 
            "metadata": {
                "scrolled": true
            }, 
            "outputs": [], 
            "source": "# Group by Source Address and Payload Sum\nsource_addresses = df.groupby(\"src\")['payload'].sum()\nsource_addresses.plot(kind='barh',title=\"Addresses Sending Payloads\")"
        }, 
        {
            "execution_count": null, 
            "cell_type": "code", 
            "metadata": {}, 
            "outputs": [], 
            "source": "# Group by Destination Address and Payload Sum\ndestination_addresses = df.groupby(\"dst\")['payload'].sum()\ndestination_addresses.plot(kind='barh', title=\"Destination Addresses (Bytes Received)\",figsize=(8,5))"
        }, 
        {
            "execution_count": null, 
            "cell_type": "code", 
            "metadata": {}, 
            "outputs": [], 
            "source": "# Group by Source Port and Payload Sum\nsource_payloads = df.groupby(\"sport\")['payload'].sum()\nsource_payloads.plot(kind='barh',title=\"Source Ports (Bytes Sent)\",figsize=(8,5))"
        }, 
        {
            "execution_count": null, 
            "cell_type": "code", 
            "metadata": {}, 
            "outputs": [], 
            "source": "# Group by Destination Port and Payload Sum\ndestination_payloads = df.groupby(\"dport\")['payload'].sum()\ndestination_payloads.plot(kind='barh',title=\"Destination Ports (Bytes Received)\",figsize=(8,5))"
        }, 
        {
            "source": "## Payload Investigation\n\n***\n\nThe graphs that we created highlighted the fact that a large amount of data was sent over port 53. Exfiltrating data using this port is a common technique for attackers due to the fact that restricting DNS communication can be troublesome. At this point, we can open wireshark or write a few lines of code to make this action repeatable. We\u2019ll perform another grouping operation, separate the conversation into its own dataframe, and view the suspicious conversation:\n\n", 
            "cell_type": "markdown", 
            "metadata": {}
        }, 
        {
            "execution_count": null, 
            "cell_type": "code", 
            "metadata": {}, 
            "outputs": [], 
            "source": "# Create dataframe with only converation from most frequent address\nfrequent_address_df = df[df['src']==frequent_address]\n\n# Only display Src Address, Dst Address, and group by Payload \nfrequent_address_groupby = frequent_address_df[['src','dst','payload']].groupby(\"dst\")['payload'].sum()\n\n# Plot the Frequent address is speaking to (By Payload)\nfrequent_address_groupby.plot(kind='barh',title=\"Most Frequent Address is Speaking To (Bytes)\",figsize=(8,5))\n\n# Which address has excahnged the most amount of bytes with most frequent address\nip_of_interest = frequent_address_groupby.sort_values(ascending=False).index[0]\nprint(ip_of_interest, \"May be an interesting address\")\n\n# Create dataframe with only conversation from most frequent address and suspicious address\nip_of_interest_df = frequent_address_df[frequent_address_df['dst']==ip_of_interest]\n\n# Store each payload in an array\nraw_stream = []\nfor p in ip_of_interest_df['payload_raw']:\n    raw_stream.append(p)\n    \nprint(raw_stream)"
        }, 
        {
            "source": "***", 
            "cell_type": "markdown", 
            "metadata": {}
        }, 
        {
            "execution_count": null, 
            "cell_type": "code", 
            "metadata": {}, 
            "outputs": [], 
            "source": ""
        }
    ], 
    "metadata": {
        "kernelspec": {
            "display_name": "Python 3.5", 
            "name": "python3", 
            "language": "python"
        }, 
        "language_info": {
            "mimetype": "text/x-python", 
            "nbconvert_exporter": "python", 
            "version": "3.5.5", 
            "name": "python", 
            "file_extension": ".py", 
            "pygments_lexer": "ipython3", 
            "codemirror_mode": {
                "version": 3, 
                "name": "ipython"
            }
        }
    }, 
    "nbformat": 4
}